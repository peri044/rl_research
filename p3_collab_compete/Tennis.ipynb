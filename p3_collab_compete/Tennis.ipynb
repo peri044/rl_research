{
 "cells": [
  {
   "cell_type": "markdown",
   "metadata": {},
   "source": [
    "# Collaboration and Competition\n",
    "\n",
    "---\n",
    "\n",
    "You are welcome to use this coding environment to train your agent for the project.  Follow the instructions below to get started!\n",
    "\n",
    "### 1. Start the Environment\n",
    "\n",
    "Run the next code cell to install a few packages.  This line will take a few minutes to run!"
   ]
  },
  {
   "cell_type": "code",
   "execution_count": 1,
   "metadata": {},
   "outputs": [],
   "source": [
    "!pip -q install ./python"
   ]
  },
  {
   "cell_type": "markdown",
   "metadata": {},
   "source": [
    "The environment is already saved in the Workspace and can be accessed at the file path provided below. "
   ]
  },
  {
   "cell_type": "code",
   "execution_count": 2,
   "metadata": {},
   "outputs": [
    {
     "name": "stderr",
     "output_type": "stream",
     "text": [
      "INFO:unityagents:\n",
      "'Academy' started successfully!\n",
      "Unity Academy name: Academy\n",
      "        Number of Brains: 1\n",
      "        Number of External Brains : 1\n",
      "        Lesson number : 0\n",
      "        Reset Parameters :\n",
      "\t\t\n",
      "Unity brain name: TennisBrain\n",
      "        Number of Visual Observations (per agent): 0\n",
      "        Vector Observation space type: continuous\n",
      "        Vector Observation space size (per agent): 8\n",
      "        Number of stacked Vector Observation: 3\n",
      "        Vector Action space type: continuous\n",
      "        Vector Action space size (per agent): 2\n",
      "        Vector Action descriptions: , \n"
     ]
    }
   ],
   "source": [
    "from unityagents import UnityEnvironment\n",
    "import numpy as np\n",
    "\n",
    "env = UnityEnvironment(file_name=\"/data/Tennis_Linux_NoVis/Tennis\")"
   ]
  },
  {
   "cell_type": "markdown",
   "metadata": {},
   "source": [
    "Environments contain **_brains_** which are responsible for deciding the actions of their associated agents. Here we check for the first brain available, and set it as the default brain we will be controlling from Python."
   ]
  },
  {
   "cell_type": "code",
   "execution_count": 3,
   "metadata": {},
   "outputs": [],
   "source": [
    "# get the default brain\n",
    "brain_name = env.brain_names[0]\n",
    "brain = env.brains[brain_name]"
   ]
  },
  {
   "cell_type": "markdown",
   "metadata": {},
   "source": [
    "### 2. Examine the State and Action Spaces\n",
    "\n",
    "Run the code cell below to print some information about the environment."
   ]
  },
  {
   "cell_type": "code",
   "execution_count": 4,
   "metadata": {
    "scrolled": false
   },
   "outputs": [
    {
     "name": "stdout",
     "output_type": "stream",
     "text": [
      "Number of agents: 2\n",
      "Size of each action: 2\n",
      "There are 2 agents. Each observes a state with length: 24\n",
      "The state for the first agent looks like: [ 0.          0.          0.          0.          0.          0.          0.\n",
      "  0.          0.          0.          0.          0.          0.          0.\n",
      "  0.          0.         -6.65278625 -1.5        -0.          0.\n",
      "  6.83172083  6.         -0.          0.        ]\n"
     ]
    }
   ],
   "source": [
    "# reset the environment\n",
    "env_info = env.reset(train_mode=True)[brain_name]\n",
    "\n",
    "# number of agents \n",
    "num_agents = len(env_info.agents)\n",
    "print('Number of agents:', num_agents)\n",
    "\n",
    "# size of each action\n",
    "action_size = brain.vector_action_space_size\n",
    "print('Size of each action:', action_size)\n",
    "\n",
    "# examine the state space \n",
    "states = env_info.vector_observations\n",
    "state_size = states.shape[1]\n",
    "print('There are {} agents. Each observes a state with length: {}'.format(states.shape[0], state_size))\n",
    "print('The state for the first agent looks like:', states[0])"
   ]
  },
  {
   "cell_type": "code",
   "execution_count": 5,
   "metadata": {},
   "outputs": [],
   "source": [
    "from ddpg_agent import *\n",
    "from model import *\n",
    "import torch.optim as optim\n",
    "\n",
    "# set the random seed and hyperparameters\n",
    "random_seed = 2\n",
    "LR_ACTOR = 1e-3         # learning rate of the actor \n",
    "# Define the two agents that play tennis\n",
    "agent_1 = Agent(state_size, action_size, random_seed)\n",
    "agent_2 = Agent(state_size, action_size, random_seed)\n",
    "\n",
    "# Define the actor local and target networks\n",
    "agent_1.actor_local = Actor(state_size, action_size, random_seed).to(device)\n",
    "agent_1.actor_target = Actor(state_size, action_size, random_seed).to(device)\n",
    "agent_2.actor_target = Actor(state_size, action_size, random_seed).to(device)\n",
    "agent_2.actor_local = Actor(state_size, action_size, random_seed).to(device)\n",
    "\n",
    "# Define a shared replay buffer\n",
    "agent_1.memory = ReplayBuffer(action_size, BUFFER_SIZE, BATCH_SIZE, random_seed)\n",
    "\n",
    "# Agent 1 and 2 share the replay buffer\n",
    "agent_2.memory = agent_1.memory\n",
    "\n",
    "# Define the optimizers to update weights\n",
    "agent_1.actor_optimizer = optim.Adam(agent_1.actor_local.parameters(), lr=LR_ACTOR)\n",
    "agent_2.actor_optimizer = optim.Adam(agent_2.actor_local.parameters(), lr=LR_ACTOR)"
   ]
  },
  {
   "cell_type": "code",
   "execution_count": 6,
   "metadata": {},
   "outputs": [
    {
     "name": "stdout",
     "output_type": "stream",
     "text": [
      "Episode 100\\Average Score (max over two agents): 0.00 score_1: 0.00 score_2: -0.01\n",
      "Episode 200\\Average Score (max over two agents): 0.00 score_1: -0.01 score_2: 0.00\n",
      "Episode 300\\Average Score (max over two agents): 0.00 score_1: 0.00 score_2: -0.01\n",
      "Episode 400\\Average Score (max over two agents): 0.00 score_1: -0.01 score_2: 0.00\n",
      "Episode 500\\Average Score (max over two agents): 0.01 score_1: 0.00 score_2: -0.01\n",
      "Episode 600\\Average Score (max over two agents): 0.00 score_1: -0.01 score_2: 0.00\n",
      "Episode 700\\Average Score (max over two agents): 0.00 score_1: -0.01 score_2: 0.00\n",
      "Episode 800\\Average Score (max over two agents): 0.00 score_1: -0.01 score_2: 0.00\n",
      "Episode 900\\Average Score (max over two agents): 0.03 score_1: 0.00 score_2: 0.091\n",
      "Episode 1000\\Average Score (max over two agents): 0.03 score_1: -0.01 score_2: 0.00\n",
      "Episode 1100\\Average Score (max over two agents): 0.07 score_1: 0.00 score_2: 0.091\n",
      "Episode 1200\\Average Score (max over two agents): 0.06 score_1: 0.10 score_2: -0.01\n",
      "Episode 1300\\Average Score (max over two agents): 0.06 score_1: 0.10 score_2: -0.01\n",
      "Episode 1400\\Average Score (max over two agents): 0.07 score_1: -0.01 score_2: 0.00\n",
      "Episode 1500\\Average Score (max over two agents): 0.08 score_1: 0.10 score_2: -0.01\n",
      "Episode 1600\\Average Score (max over two agents): 0.09 score_1: 0.00 score_2: 0.091\n",
      "Episode 1700\\Average Score (max over two agents): 0.09 score_1: -0.01 score_2: 0.10\n",
      "Episode 1800\\Average Score (max over two agents): 0.09 score_1: 0.20 score_2: 0.091\n",
      "Episode 1900\\Average Score (max over two agents): 0.10 score_1: -0.01 score_2: 0.00\n",
      "Episode 2000\\Average Score (max over two agents): 0.10 score_1: 0.00 score_2: 0.090\n",
      "Episode 2100\\Average Score (max over two agents): 0.09 score_1: 0.10 score_2: 0.091\n",
      "Episode 2200\\Average Score (max over two agents): 0.19 score_1: 1.20 score_2: 1.091\n",
      "Episode 2279\\Average Score (max over two agents): 0.51 score_1: 1.10 score_2: 1.091\n",
      "Environment solved in 2279 episodes!\tAverage Score: 0.51\n",
      "Episode 2300\\Average Score (max over two agents): 0.66 score_1: 0.20 score_2: 0.091\n",
      "Episode 2400\\Average Score (max over two agents): 0.94 score_1: -0.01 score_2: 0.00\n",
      "Episode 2500\\Average Score (max over two agents): 0.49 score_1: 0.60 score_2: 0.591\n",
      "Episode 2600\\Average Score (max over two agents): 0.40 score_1: 0.60 score_2: 0.490\n",
      "Episode 2700\\Average Score (max over two agents): 0.54 score_1: 0.09 score_2: 0.101\n",
      "Episode 2800\\Average Score (max over two agents): 0.64 score_1: 0.69 score_2: 0.701\n",
      "Episode 2900\\Average Score (max over two agents): 0.38 score_1: 0.10 score_2: -0.01\n",
      "Episode 3000\\Average Score (max over two agents): 0.55 score_1: -0.01 score_2: 0.10\n"
     ]
    },
    {
     "data": {
      "image/png": "[encoded data removed]",
      "text/plain": [
       "<matplotlib.figure.Figure at 0x7f6ce854bdd8>"
      ]
     },
     "metadata": {
      "needs_background": "light"
     },
     "output_type": "display_data"
    }
   ],
   "source": [
    "import matplotlib.pyplot as plt\n",
    "%matplotlib inline\n",
    "\n",
    "def ddpg(n_episodes=1000, max_t=1000, print_every=100):\n",
    "    scores_deque = deque(maxlen=print_every)\n",
    "    scores = []\n",
    "    avg_scores = []\n",
    "    count=0\n",
    "    for i_episode in range(1, n_episodes+1):\n",
    "        env_info = env.reset(train_mode=True)[brain_name] \n",
    "        state_1 = env_info.vector_observations[0]\n",
    "        state_2 = env_info.vector_observations[1]\n",
    "        agent_1.reset()\n",
    "        agent_2.reset()\n",
    "        score_1 = 0.\n",
    "        score_2 = 0.\n",
    "        for t in range(max_t):\n",
    "            # Get the actions\n",
    "            action_1 = agent_1.act(state_1)\n",
    "            action_2 = agent_2.act(state_2)\n",
    "            action = np.concatenate([action_1, action_2], axis=1)\n",
    "            # Get next states from the environment by sending the action\n",
    "            env_info = env.step(action)[brain_name]          \n",
    "            next_state_1 = env_info.vector_observations[0]       \n",
    "            next_state_2 = env_info.vector_observations[1]  \n",
    "            # Get rewards for the agents\n",
    "            reward_1 = env_info.rewards[0]                          \n",
    "            reward_2 = env_info.rewards[1]  \n",
    "            # Check if the environment is done\n",
    "            dones = env_info.local_done\n",
    "            agent_1.step(state_1, action_1, reward_1, next_state_1, dones[0])\n",
    "            agent_2.step(state_2, action_2, reward_2, next_state_2, dones[1])\n",
    "            state_1 = next_state_1\n",
    "            state_2 = next_state_2\n",
    "            score_1 += reward_1\n",
    "            score_2 += reward_2\n",
    "            if np.any(dones):\n",
    "                break \n",
    "        max_score = np.maximum(score_1, score_2)\n",
    "        scores_deque.append(max_score)\n",
    "        scores.append(max_score)\n",
    "        avg_scores.append(np.mean(scores_deque))\n",
    "        print('\\rEpisode {}\\Average Score (max over two agents): {:.2f} score_1: {:.2f} score_2: {:.2f}'.format(i_episode, np.mean(scores_deque), score_1, score_2), end=\"\")\n",
    "        if i_episode % print_every == 0:\n",
    "            print('\\rEpisode {}\\Average Score (max over two agents): {:.2f}'.format(i_episode, np.mean(scores_deque)))\n",
    "        if count==0 and np.mean(scores_deque)>=0.5:\n",
    "            print('\\nEnvironment solved in {:d} episodes!\\tAverage Score: {:.2f}'.format(i_episode, np.mean(scores_deque)))\n",
    "            torch.save(agent_1.actor_local.state_dict(), 'checkpoint_actor.pth')\n",
    "            torch.save(agent_1.critic_local.state_dict(), 'checkpoint_critic.pth')\n",
    "            count+=1\n",
    "    return scores, avg_scores\n",
    "\n",
    "scores, avg_scores = ddpg(n_episodes=3000)\n",
    "\n",
    "fig = plt.figure()\n",
    "ax = fig.add_subplot(111)\n",
    "plt.plot(np.arange(1, len(scores)+1), scores)\n",
    "plt.plot(np.arange(1, len(scores)+1), avg_scores, color='y')\n",
    "plt.ylabel('Score')\n",
    "plt.xlabel('Episode #')\n",
    "plt.show()"
   ]
  },
  {
   "cell_type": "markdown",
   "metadata": {},
   "source": [
    "### 3. Take Random Actions in the Environment\n",
    "\n",
    "In the next code cell, you will learn how to use the Python API to control the agent and receive feedback from the environment.\n",
    "\n",
    "Note that **in this coding environment, you will not be able to watch the agents while they are training**, and you should set `train_mode=True` to restart the environment."
   ]
  },
  {
   "cell_type": "markdown",
   "metadata": {},
   "source": [
    "When finished, you can close the environment."
   ]
  },
  {
   "cell_type": "code",
   "execution_count": 7,
   "metadata": {},
   "outputs": [],
   "source": [
    "# Save the rewards plot\n",
    "fig.savefig('rewards_marl.png')\n",
    "# Close the environment\n",
    "env.close()"
   ]
  },
  {
   "cell_type": "markdown",
   "metadata": {},
   "source": [
    "### 4. It's Your Turn!\n",
    "\n",
    "Now it's your turn to train your own agent to solve the environment!  A few **important notes**:\n",
    "- When training the environment, set `train_mode=True`, so that the line for resetting the environment looks like the following:\n",
    "```python\n",
    "env_info = env.reset(train_mode=True)[brain_name]\n",
    "```\n",
    "- To structure your work, you're welcome to work directly in this Jupyter notebook, or you might like to start over with a new file!  You can see the list of files in the workspace by clicking on **_Jupyter_** in the top left corner of the notebook.\n",
    "- In this coding environment, you will not be able to watch the agents while they are training.  However, **_after training the agents_**, you can download the saved model weights to watch the agents on your own machine! "
   ]
  }
 ],
 "metadata": {
  "kernelspec": {
   "display_name": "Python 3",
   "language": "python",
   "name": "python3"
  },
  "language_info": {
   "codemirror_mode": {
    "name": "ipython",
    "version": 3
   },
   "file_extension": ".py",
   "mimetype": "text/x-python",
   "name": "python",
   "nbconvert_exporter": "python",
   "pygments_lexer": "ipython3",
   "version": "3.6.3"
  }
 },
 "nbformat": 4,
 "nbformat_minor": 2
}
